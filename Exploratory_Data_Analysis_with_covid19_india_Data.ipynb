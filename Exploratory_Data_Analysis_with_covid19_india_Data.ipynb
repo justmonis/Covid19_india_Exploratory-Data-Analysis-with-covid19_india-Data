{
  "metadata": {
    "kernelspec": {
      "language": "python",
      "display_name": "Python 3",
      "name": "python3"
    },
    "language_info": {
      "pygments_lexer": "ipython3",
      "nbconvert_exporter": "python",
      "version": "3.6.4",
      "file_extension": ".py",
      "codemirror_mode": {
        "name": "ipython",
        "version": 3
      },
      "name": "python",
      "mimetype": "text/x-python"
    },
    "colab": {
      "name": "Exploratory Data Analysis with covid19_india Data",
      "provenance": [],
      "include_colab_link": true
    }
  },
  "nbformat_minor": 0,
  "nbformat": 4,
  "cells": [
    {
      "cell_type": "markdown",
      "metadata": {
        "id": "view-in-github",
        "colab_type": "text"
      },
      "source": [
        "<a href=\"https://colab.research.google.com/github/justmonis/Covid19_india_Exploratory-Data-Analysis-with-covid19_india-Data/blob/main/Exploratory_Data_Analysis_with_covid19_india_Data.ipynb\" target=\"_parent\"><img src=\"https://colab.research.google.com/assets/colab-badge.svg\" alt=\"Open In Colab\"/></a>"
      ]
    },
    {
      "source": [
        "\n",
        "# IMPORTANT: RUN THIS CELL IN ORDER TO IMPORT YOUR KAGGLE DATA SOURCES\n",
        "# TO THE CORRECT LOCATION (/kaggle/input) IN YOUR NOTEBOOK,\n",
        "# THEN FEEL FREE TO DELETE THIS CELL.\n",
        "# NOTE: THIS NOTEBOOK ENVIRONMENT DIFFERS FROM KAGGLE'S PYTHON\n",
        "# ENVIRONMENT SO THERE MAY BE MISSING LIBRARIES USED BY YOUR\n",
        "# NOTEBOOK.\n",
        "\n",
        "import os\n",
        "import sys\n",
        "from tempfile import NamedTemporaryFile\n",
        "from urllib.request import urlopen\n",
        "from urllib.parse import unquote, urlparse\n",
        "from urllib.error import HTTPError\n",
        "from zipfile import ZipFile\n",
        "import tarfile\n",
        "import shutil\n",
        "\n",
        "CHUNK_SIZE = 40960\n",
        "DATA_SOURCE_MAPPING = 'covid-19-india2021:https%3A%2F%2Fstorage.googleapis.com%2Fkaggle-data-sets%2F2459355%2F4167029%2Fbundle%2Farchive.zip%3FX-Goog-Algorithm%3DGOOG4-RSA-SHA256%26X-Goog-Credential%3Dgcp-kaggle-com%2540kaggle-161607.iam.gserviceaccount.com%252F20240410%252Fauto%252Fstorage%252Fgoog4_request%26X-Goog-Date%3D20240410T133305Z%26X-Goog-Expires%3D259200%26X-Goog-SignedHeaders%3Dhost%26X-Goog-Signature%3D271fd45e55e6a98f6d38ad77dc8781d9350918f6be3da545e9959d9287156b97185ee4994fd80e2f7962fbb515ed92753852220eb4636710c659c3bfae5d727345b8b5b73ca5dac06021b662c47275048ab575d109e41e4b9b2a570780dd27a0417025be2a17d8b096faa72441237db63dcd090b8f0e3b4cd985c784886522cb638ec0f6b3ce537222ef8b861db9fae442b5418c6229e27f130ee606ea4f240913222cf99a294b3b984d3ad4fbe4cb111ab96fe1cac8bde3314b0a1927eae719b3bf1c1c222cc858eac21e4546c71acab444d44317016c6dbfa47dc9792b584cbce1fe436eedfbfb97c28a1de00a4ee0c71f9b4167c23dde8eeb3401427c7ef5'\n",
        "\n",
        "KAGGLE_INPUT_PATH='/kaggle/input'\n",
        "KAGGLE_WORKING_PATH='/kaggle/working'\n",
        "KAGGLE_SYMLINK='kaggle'\n",
        "\n",
        "!umount /kaggle/input/ 2> /dev/null\n",
        "shutil.rmtree('/kaggle/input', ignore_errors=True)\n",
        "os.makedirs(KAGGLE_INPUT_PATH, 0o777, exist_ok=True)\n",
        "os.makedirs(KAGGLE_WORKING_PATH, 0o777, exist_ok=True)\n",
        "\n",
        "try:\n",
        "  os.symlink(KAGGLE_INPUT_PATH, os.path.join(\"..\", 'input'), target_is_directory=True)\n",
        "except FileExistsError:\n",
        "  pass\n",
        "try:\n",
        "  os.symlink(KAGGLE_WORKING_PATH, os.path.join(\"..\", 'working'), target_is_directory=True)\n",
        "except FileExistsError:\n",
        "  pass\n",
        "\n",
        "for data_source_mapping in DATA_SOURCE_MAPPING.split(','):\n",
        "    directory, download_url_encoded = data_source_mapping.split(':')\n",
        "    download_url = unquote(download_url_encoded)\n",
        "    filename = urlparse(download_url).path\n",
        "    destination_path = os.path.join(KAGGLE_INPUT_PATH, directory)\n",
        "    try:\n",
        "        with urlopen(download_url) as fileres, NamedTemporaryFile() as tfile:\n",
        "            total_length = fileres.headers['content-length']\n",
        "            print(f'Downloading {directory}, {total_length} bytes compressed')\n",
        "            dl = 0\n",
        "            data = fileres.read(CHUNK_SIZE)\n",
        "            while len(data) > 0:\n",
        "                dl += len(data)\n",
        "                tfile.write(data)\n",
        "                done = int(50 * dl / int(total_length))\n",
        "                sys.stdout.write(f\"\\r[{'=' * done}{' ' * (50-done)}] {dl} bytes downloaded\")\n",
        "                sys.stdout.flush()\n",
        "                data = fileres.read(CHUNK_SIZE)\n",
        "            if filename.endswith('.zip'):\n",
        "              with ZipFile(tfile) as zfile:\n",
        "                zfile.extractall(destination_path)\n",
        "            else:\n",
        "              with tarfile.open(tfile.name) as tarfile:\n",
        "                tarfile.extractall(destination_path)\n",
        "            print(f'\\nDownloaded and uncompressed: {directory}')\n",
        "    except HTTPError as e:\n",
        "        print(f'Failed to load (likely expired) {download_url} to path {destination_path}')\n",
        "        continue\n",
        "    except OSError as e:\n",
        "        print(f'Failed to load {download_url} to path {destination_path}')\n",
        "        continue\n",
        "\n",
        "print('Data source import complete.')\n"
      ],
      "metadata": {
        "id": "2Ard9EDiNmnd"
      },
      "cell_type": "code",
      "outputs": [],
      "execution_count": null
    },
    {
      "cell_type": "code",
      "source": [
        "# This Python 3 environment comes with many helpful analytics libraries installed\n",
        "# It is defined by the kaggle/python Docker image: https://github.com/kaggle/docker-python\n",
        "# For example, here's several helpful packages to load\n",
        "\n",
        "import numpy as np # linear algebra\n",
        "import pandas as pd # data processing, CSV file I/O (e.g. pd.read_csv)\n",
        "\n",
        "# Input data files are available in the read-only \"../input/\" directory\n",
        "# For example, running this (by clicking run or pressing Shift+Enter) will list all files under the input directory\n",
        "\n",
        "import os\n",
        "for dirname, _, filenames in os.walk('/kaggle/input'):\n",
        "    for filename in filenames:\n",
        "        print(os.path.join(dirname, filename))\n",
        "\n",
        "# You can write up to 20GB to the current directory (/kaggle/working/) that gets preserved as output when you create a version using \"Save & Run All\"\n",
        "# You can also write temporary files to /kaggle/temp/, but they won't be saved outside of the current session"
      ],
      "metadata": {
        "_uuid": "8f2839f25d086af736a60e9eeb907d3b93b6e0e5",
        "_cell_guid": "b1076dfc-b9ad-4769-8c92-a6c4dae69d19",
        "execution": {
          "iopub.status.busy": "2022-09-06T12:42:33.119971Z",
          "iopub.execute_input": "2022-09-06T12:42:33.120381Z",
          "iopub.status.idle": "2022-09-06T12:42:33.151194Z",
          "shell.execute_reply.started": "2022-09-06T12:42:33.120295Z",
          "shell.execute_reply": "2022-09-06T12:42:33.150405Z"
        },
        "trusted": true,
        "id": "alGPwN-iNmnj"
      },
      "execution_count": null,
      "outputs": []
    },
    {
      "cell_type": "code",
      "source": [
        "import pandas as pd\n",
        "from matplotlib import pyplot as plt\n",
        "import seaborn as sns\n",
        "import datetime as dt\n",
        "import numpy as np\n"
      ],
      "metadata": {
        "execution": {
          "iopub.status.busy": "2022-09-06T12:42:33.152461Z",
          "iopub.execute_input": "2022-09-06T12:42:33.153398Z",
          "iopub.status.idle": "2022-09-06T12:42:34.142464Z",
          "shell.execute_reply.started": "2022-09-06T12:42:33.153365Z",
          "shell.execute_reply": "2022-09-06T12:42:34.141302Z"
        },
        "trusted": true,
        "id": "sR7_dPlgNmnk"
      },
      "execution_count": null,
      "outputs": []
    },
    {
      "cell_type": "code",
      "source": [
        "#importing main dataset\n",
        "df = pd.read_csv('../input/covid-19-india2021/covid_19_india.csv',parse_dates=['Date'],dayfirst=True)"
      ],
      "metadata": {
        "execution": {
          "iopub.status.busy": "2022-09-06T12:42:34.144026Z",
          "iopub.execute_input": "2022-09-06T12:42:34.145291Z",
          "iopub.status.idle": "2022-09-06T12:42:34.21522Z",
          "shell.execute_reply.started": "2022-09-06T12:42:34.145243Z",
          "shell.execute_reply": "2022-09-06T12:42:34.214377Z"
        },
        "trusted": true,
        "id": "Ey8VkUULNmnk"
      },
      "execution_count": null,
      "outputs": []
    },
    {
      "cell_type": "code",
      "source": [
        "df.head()"
      ],
      "metadata": {
        "execution": {
          "iopub.status.busy": "2022-09-06T12:42:34.217714Z",
          "iopub.execute_input": "2022-09-06T12:42:34.218883Z",
          "iopub.status.idle": "2022-09-06T12:42:34.241698Z",
          "shell.execute_reply.started": "2022-09-06T12:42:34.218836Z",
          "shell.execute_reply": "2022-09-06T12:42:34.240594Z"
        },
        "trusted": true,
        "id": "F-gHSzzHNmnk"
      },
      "execution_count": null,
      "outputs": []
    },
    {
      "cell_type": "code",
      "source": [
        "#keeping only required columns\n",
        "df = df[['Date','State/UnionTerritory','Cured','Deaths','Confirmed']]\n",
        "#renaming column names\n",
        "df.columns = ['date','state','cured','deaths','confirmed']"
      ],
      "metadata": {
        "execution": {
          "iopub.status.busy": "2022-09-06T12:42:34.243001Z",
          "iopub.execute_input": "2022-09-06T12:42:34.243545Z",
          "iopub.status.idle": "2022-09-06T12:42:34.250181Z",
          "shell.execute_reply.started": "2022-09-06T12:42:34.243514Z",
          "shell.execute_reply": "2022-09-06T12:42:34.2495Z"
        },
        "trusted": true,
        "id": "u7XD4x_eNmnl"
      },
      "execution_count": null,
      "outputs": []
    },
    {
      "cell_type": "code",
      "source": [
        "#looking at the earlier dates\n",
        "df.head()"
      ],
      "metadata": {
        "execution": {
          "iopub.status.busy": "2022-09-06T12:42:34.251368Z",
          "iopub.execute_input": "2022-09-06T12:42:34.251881Z",
          "iopub.status.idle": "2022-09-06T12:42:34.269016Z",
          "shell.execute_reply.started": "2022-09-06T12:42:34.251851Z",
          "shell.execute_reply": "2022-09-06T12:42:34.268356Z"
        },
        "trusted": true,
        "id": "hSnjEbOtNmnl"
      },
      "execution_count": null,
      "outputs": []
    },
    {
      "cell_type": "code",
      "source": [
        "#Looking at the Latest dates\n",
        "df.tail()"
      ],
      "metadata": {
        "execution": {
          "iopub.status.busy": "2022-09-06T12:42:34.270148Z",
          "iopub.execute_input": "2022-09-06T12:42:34.270607Z",
          "iopub.status.idle": "2022-09-06T12:42:34.283723Z",
          "shell.execute_reply.started": "2022-09-06T12:42:34.270581Z",
          "shell.execute_reply": "2022-09-06T12:42:34.282779Z"
        },
        "trusted": true,
        "id": "B4F_zMgcNmnm"
      },
      "execution_count": null,
      "outputs": []
    },
    {
      "cell_type": "code",
      "source": [
        "#current date\n",
        "today = df[df.date == '2020-07-17']"
      ],
      "metadata": {
        "execution": {
          "iopub.status.busy": "2022-09-06T12:42:34.285962Z",
          "iopub.execute_input": "2022-09-06T12:42:34.286392Z",
          "iopub.status.idle": "2022-09-06T12:42:34.295415Z",
          "shell.execute_reply.started": "2022-09-06T12:42:34.286352Z",
          "shell.execute_reply": "2022-09-06T12:42:34.294492Z"
        },
        "trusted": true,
        "id": "yqeEm9QiNmnm"
      },
      "execution_count": null,
      "outputs": []
    },
    {
      "cell_type": "code",
      "source": [
        "today"
      ],
      "metadata": {
        "execution": {
          "iopub.status.busy": "2022-09-06T12:42:34.300895Z",
          "iopub.execute_input": "2022-09-06T12:42:34.301601Z",
          "iopub.status.idle": "2022-09-06T12:42:34.317929Z",
          "shell.execute_reply.started": "2022-09-06T12:42:34.301542Z",
          "shell.execute_reply": "2022-09-06T12:42:34.317025Z"
        },
        "trusted": true,
        "id": "_iaG5SlKNmnn"
      },
      "execution_count": null,
      "outputs": []
    },
    {
      "cell_type": "code",
      "source": [
        "today.head()"
      ],
      "metadata": {
        "execution": {
          "iopub.status.busy": "2022-09-06T12:42:34.319343Z",
          "iopub.execute_input": "2022-09-06T12:42:34.319858Z",
          "iopub.status.idle": "2022-09-06T12:42:34.335449Z",
          "shell.execute_reply.started": "2022-09-06T12:42:34.319828Z",
          "shell.execute_reply": "2022-09-06T12:42:34.334205Z"
        },
        "trusted": true,
        "id": "5CIRmbsvNmnn"
      },
      "execution_count": null,
      "outputs": []
    },
    {
      "cell_type": "code",
      "source": [
        "#Sorting data w.r.t number of confirmed cases\n",
        "max_confirmed_cases=today.sort_values(by=\"confirmed\",ascending=False)\n",
        "max_confirmed_cases"
      ],
      "metadata": {
        "execution": {
          "iopub.status.busy": "2022-09-06T12:42:34.337013Z",
          "iopub.execute_input": "2022-09-06T12:42:34.33773Z",
          "iopub.status.idle": "2022-09-06T12:42:34.354284Z",
          "shell.execute_reply.started": "2022-09-06T12:42:34.337689Z",
          "shell.execute_reply": "2022-09-06T12:42:34.353117Z"
        },
        "trusted": true,
        "id": "gKssjR2nNmnn"
      },
      "execution_count": null,
      "outputs": []
    },
    {
      "cell_type": "code",
      "source": [
        "#Getting states with maximum number of confirmed cases\n",
        "top_states_confirmed=max_confirmed_cases[0:5]"
      ],
      "metadata": {
        "execution": {
          "iopub.status.busy": "2022-09-06T12:42:34.356415Z",
          "iopub.execute_input": "2022-09-06T12:42:34.357057Z",
          "iopub.status.idle": "2022-09-06T12:42:34.361929Z",
          "shell.execute_reply.started": "2022-09-06T12:42:34.357019Z",
          "shell.execute_reply": "2022-09-06T12:42:34.361285Z"
        },
        "trusted": true,
        "id": "rbUEqhc7Nmnn"
      },
      "execution_count": null,
      "outputs": []
    },
    {
      "cell_type": "code",
      "source": [
        "top_states_confirmed"
      ],
      "metadata": {
        "execution": {
          "iopub.status.busy": "2022-09-06T12:42:34.3634Z",
          "iopub.execute_input": "2022-09-06T12:42:34.364392Z",
          "iopub.status.idle": "2022-09-06T12:42:34.377813Z",
          "shell.execute_reply.started": "2022-09-06T12:42:34.364358Z",
          "shell.execute_reply": "2022-09-06T12:42:34.377186Z"
        },
        "trusted": true,
        "id": "2f0Rboq2Nmno"
      },
      "execution_count": null,
      "outputs": []
    },
    {
      "cell_type": "code",
      "source": [
        "#Making bar-plot for states with top confirmed cases\n",
        "sns.set(rc={'figure.figsize':(15,10)})\n",
        "sns.barplot(x=\"state\",y=\"confirmed\",data=top_states_confirmed,hue=\"state\")\n",
        "plt.show()"
      ],
      "metadata": {
        "execution": {
          "iopub.status.busy": "2022-09-06T12:42:34.379492Z",
          "iopub.execute_input": "2022-09-06T12:42:34.38017Z",
          "iopub.status.idle": "2022-09-06T12:42:35.090159Z",
          "shell.execute_reply.started": "2022-09-06T12:42:34.380105Z",
          "shell.execute_reply": "2022-09-06T12:42:35.08911Z"
        },
        "trusted": true,
        "id": "SO6EoLv_Nmno"
      },
      "execution_count": null,
      "outputs": []
    },
    {
      "cell_type": "code",
      "source": [
        "#Sorting data w.r.t number of death cases\n",
        "max_death_cases=today.sort_values(by=\"deaths\",ascending=False)\n",
        "max_death_cases"
      ],
      "metadata": {
        "execution": {
          "iopub.status.busy": "2022-09-06T12:42:35.091691Z",
          "iopub.execute_input": "2022-09-06T12:42:35.092291Z",
          "iopub.status.idle": "2022-09-06T12:42:35.113539Z",
          "shell.execute_reply.started": "2022-09-06T12:42:35.092229Z",
          "shell.execute_reply": "2022-09-06T12:42:35.112589Z"
        },
        "trusted": true,
        "id": "bAG41A3kNmno"
      },
      "execution_count": null,
      "outputs": []
    },
    {
      "cell_type": "code",
      "source": [
        "#Getting states with maximum number of death cases\n",
        "top_states_death=max_death_cases[0:5]"
      ],
      "metadata": {
        "execution": {
          "iopub.status.busy": "2022-09-06T12:42:35.115017Z",
          "iopub.execute_input": "2022-09-06T12:42:35.115615Z",
          "iopub.status.idle": "2022-09-06T12:42:35.12023Z",
          "shell.execute_reply.started": "2022-09-06T12:42:35.115581Z",
          "shell.execute_reply": "2022-09-06T12:42:35.119279Z"
        },
        "trusted": true,
        "id": "s4oZQqDXNmno"
      },
      "execution_count": null,
      "outputs": []
    },
    {
      "cell_type": "code",
      "source": [
        "#Making bar-plot for states with top death cases\n",
        "sns.set(rc={'figure.figsize':(15,10)})\n",
        "sns.barplot(x=\"state\",y=\"deaths\",data=top_states_death,hue=\"state\")\n",
        "plt.show()"
      ],
      "metadata": {
        "execution": {
          "iopub.status.busy": "2022-09-06T12:42:35.121692Z",
          "iopub.execute_input": "2022-09-06T12:42:35.122296Z",
          "iopub.status.idle": "2022-09-06T12:42:35.656792Z",
          "shell.execute_reply.started": "2022-09-06T12:42:35.122259Z",
          "shell.execute_reply": "2022-09-06T12:42:35.65578Z"
        },
        "trusted": true,
        "id": "3HuhMA_8Nmno"
      },
      "execution_count": null,
      "outputs": []
    },
    {
      "cell_type": "code",
      "source": [
        "#Sorting data w.r.t number of cured cases\n",
        "max_cured_cases=today.sort_values(by=\"cured\",ascending=False)\n",
        "max_cured_cases"
      ],
      "metadata": {
        "execution": {
          "iopub.status.busy": "2022-09-06T12:42:35.658342Z",
          "iopub.execute_input": "2022-09-06T12:42:35.658688Z",
          "iopub.status.idle": "2022-09-06T12:42:35.673756Z",
          "shell.execute_reply.started": "2022-09-06T12:42:35.658655Z",
          "shell.execute_reply": "2022-09-06T12:42:35.672825Z"
        },
        "trusted": true,
        "id": "-Hqh_pH8Nmnp"
      },
      "execution_count": null,
      "outputs": []
    },
    {
      "cell_type": "code",
      "source": [
        "#Getting states with maximum number of cured cases\n",
        "top_states_cured=max_cured_cases[0:5]"
      ],
      "metadata": {
        "execution": {
          "iopub.status.busy": "2022-09-06T12:42:35.67507Z",
          "iopub.execute_input": "2022-09-06T12:42:35.675478Z",
          "iopub.status.idle": "2022-09-06T12:42:35.681503Z",
          "shell.execute_reply.started": "2022-09-06T12:42:35.675436Z",
          "shell.execute_reply": "2022-09-06T12:42:35.68075Z"
        },
        "trusted": true,
        "id": "ljfmPDamNmnp"
      },
      "execution_count": null,
      "outputs": []
    },
    {
      "cell_type": "code",
      "source": [
        "#Making bar-plot for states with top death cases\n",
        "sns.set(rc={'figure.figsize':(15,10)})\n",
        "sns.barplot(x=\"state\",y=\"cured\",data=top_states_cured,hue=\"state\")\n",
        "plt.show()"
      ],
      "metadata": {
        "execution": {
          "iopub.status.busy": "2022-09-06T12:42:35.68252Z",
          "iopub.execute_input": "2022-09-06T12:42:35.682931Z",
          "iopub.status.idle": "2022-09-06T12:42:36.157644Z",
          "shell.execute_reply.started": "2022-09-06T12:42:35.682906Z",
          "shell.execute_reply": "2022-09-06T12:42:36.156626Z"
        },
        "trusted": true,
        "id": "RATOiu2XNmnp"
      },
      "execution_count": null,
      "outputs": []
    },
    {
      "cell_type": "code",
      "source": [
        "#Maharashtra\n",
        "maha = df[df.state == 'Maharashtra']"
      ],
      "metadata": {
        "execution": {
          "iopub.status.busy": "2022-09-06T12:42:36.158935Z",
          "iopub.execute_input": "2022-09-06T12:42:36.15928Z",
          "iopub.status.idle": "2022-09-06T12:42:36.166652Z",
          "shell.execute_reply.started": "2022-09-06T12:42:36.159252Z",
          "shell.execute_reply": "2022-09-06T12:42:36.16557Z"
        },
        "trusted": true,
        "id": "aAEMFsKjNmnp"
      },
      "execution_count": null,
      "outputs": []
    },
    {
      "cell_type": "code",
      "source": [
        "maha"
      ],
      "metadata": {
        "execution": {
          "iopub.status.busy": "2022-09-06T12:42:36.167942Z",
          "iopub.execute_input": "2022-09-06T12:42:36.168252Z",
          "iopub.status.idle": "2022-09-06T12:42:36.185474Z",
          "shell.execute_reply.started": "2022-09-06T12:42:36.168223Z",
          "shell.execute_reply": "2022-09-06T12:42:36.18441Z"
        },
        "trusted": true,
        "id": "qmHsmuoKNmnp"
      },
      "execution_count": null,
      "outputs": []
    },
    {
      "cell_type": "code",
      "source": [
        "#Visualizing confirmed cases in maharashtra\n",
        "sns.set(rc={'figure.figsize':(15,10)})\n",
        "sns.lineplot(x=\"date\",y=\"confirmed\",data=maha,color=\"c\")\n",
        "plt.show()"
      ],
      "metadata": {
        "execution": {
          "iopub.status.busy": "2022-09-06T12:42:36.186931Z",
          "iopub.execute_input": "2022-09-06T12:42:36.187261Z",
          "iopub.status.idle": "2022-09-06T12:42:36.661815Z",
          "shell.execute_reply.started": "2022-09-06T12:42:36.187231Z",
          "shell.execute_reply": "2022-09-06T12:42:36.660697Z"
        },
        "trusted": true,
        "id": "pMmQGW2KNmnp"
      },
      "execution_count": null,
      "outputs": []
    },
    {
      "cell_type": "code",
      "source": [
        "#Visualizing death cases in maharashtra\n",
        "sns.set(rc={'figure.figsize':(15,10)})\n",
        "sns.lineplot(x=\"date\",y=\"deaths\",data=maha,color=\"y\")\n",
        "plt.show()"
      ],
      "metadata": {
        "execution": {
          "iopub.status.busy": "2022-09-06T12:42:36.667995Z",
          "iopub.execute_input": "2022-09-06T12:42:36.668374Z",
          "iopub.status.idle": "2022-09-06T12:42:37.069876Z",
          "shell.execute_reply.started": "2022-09-06T12:42:36.668331Z",
          "shell.execute_reply": "2022-09-06T12:42:37.068688Z"
        },
        "trusted": true,
        "id": "Jwc2KTo_Nmnp"
      },
      "execution_count": null,
      "outputs": []
    },
    {
      "cell_type": "code",
      "source": [
        "#kerala\n",
        "kerala = df[df.state == 'Kerala']\n",
        "kerala"
      ],
      "metadata": {
        "execution": {
          "iopub.status.busy": "2022-09-06T12:42:37.071674Z",
          "iopub.execute_input": "2022-09-06T12:42:37.072394Z",
          "iopub.status.idle": "2022-09-06T12:42:37.091446Z",
          "shell.execute_reply.started": "2022-09-06T12:42:37.072349Z",
          "shell.execute_reply": "2022-09-06T12:42:37.090121Z"
        },
        "trusted": true,
        "id": "Wwqx53dmNmnp"
      },
      "execution_count": null,
      "outputs": []
    },
    {
      "cell_type": "code",
      "source": [
        "#Visualizing confirmed cases in Kerala\n",
        "sns.set(rc={'figure.figsize':(15,10)})\n",
        "sns.lineplot(x=\"date\",y=\"confirmed\",data=kerala,color=\"#00ffcc\")\n",
        "plt.show()"
      ],
      "metadata": {
        "execution": {
          "iopub.status.busy": "2022-09-06T12:42:37.093058Z",
          "iopub.execute_input": "2022-09-06T12:42:37.093455Z",
          "iopub.status.idle": "2022-09-06T12:42:37.525629Z",
          "shell.execute_reply.started": "2022-09-06T12:42:37.093417Z",
          "shell.execute_reply": "2022-09-06T12:42:37.524546Z"
        },
        "trusted": true,
        "id": "aIyAFlpANmnp"
      },
      "execution_count": null,
      "outputs": []
    },
    {
      "cell_type": "code",
      "source": [
        "#Visualizing confirmed cases in Kerala\n",
        "sns.set(rc={'figure.figsize':(15,10)})\n",
        "sns.lineplot(x=\"date\",y=\"deaths\",data=kerala,color=\"#000000\")\n",
        "plt.show()"
      ],
      "metadata": {
        "execution": {
          "iopub.status.busy": "2022-09-06T12:42:37.528004Z",
          "iopub.execute_input": "2022-09-06T12:42:37.52865Z",
          "iopub.status.idle": "2022-09-06T12:42:37.927279Z",
          "shell.execute_reply.started": "2022-09-06T12:42:37.528616Z",
          "shell.execute_reply": "2022-09-06T12:42:37.925376Z"
        },
        "trusted": true,
        "id": "La6Id9m2Nmnq"
      },
      "execution_count": null,
      "outputs": []
    },
    {
      "cell_type": "code",
      "source": [
        "#Jammu and Kashmir\n",
        "jk = df[df.state == 'Jammu and Kashmir']\n",
        "jk"
      ],
      "metadata": {
        "execution": {
          "iopub.status.busy": "2022-09-06T12:42:37.928822Z",
          "iopub.execute_input": "2022-09-06T12:42:37.929314Z",
          "iopub.status.idle": "2022-09-06T12:42:37.950295Z",
          "shell.execute_reply.started": "2022-09-06T12:42:37.929269Z",
          "shell.execute_reply": "2022-09-06T12:42:37.949049Z"
        },
        "trusted": true,
        "id": "MixYSWuiNmnq"
      },
      "execution_count": null,
      "outputs": []
    },
    {
      "cell_type": "code",
      "source": [
        "#Visualizing confirmed cases in Jammu and Kashmir\n",
        "sns.set(rc={'figure.figsize':(15,10)})\n",
        "sns.lineplot(x=\"date\",y=\"confirmed\",data=jk,color=\"#cc66ff\")\n",
        "plt.show()"
      ],
      "metadata": {
        "execution": {
          "iopub.status.busy": "2022-09-06T12:42:37.951693Z",
          "iopub.execute_input": "2022-09-06T12:42:37.952016Z",
          "iopub.status.idle": "2022-09-06T12:42:38.345158Z",
          "shell.execute_reply.started": "2022-09-06T12:42:37.951987Z",
          "shell.execute_reply": "2022-09-06T12:42:38.343968Z"
        },
        "trusted": true,
        "id": "z1D9trKsNmnq"
      },
      "execution_count": null,
      "outputs": []
    },
    {
      "cell_type": "code",
      "source": [
        "#Visualizing confirmed cases in jk\n",
        "sns.set(rc={'figure.figsize':(15,10)})\n",
        "sns.lineplot(x=\"date\",y=\"deaths\",data=jk,color=\"#000099\")\n",
        "plt.show()"
      ],
      "metadata": {
        "execution": {
          "iopub.status.busy": "2022-09-06T12:42:38.346604Z",
          "iopub.execute_input": "2022-09-06T12:42:38.347003Z",
          "iopub.status.idle": "2022-09-06T12:42:38.684578Z",
          "shell.execute_reply.started": "2022-09-06T12:42:38.346964Z",
          "shell.execute_reply": "2022-09-06T12:42:38.682409Z"
        },
        "trusted": true,
        "id": "J6LyuTZXNmnq"
      },
      "execution_count": null,
      "outputs": []
    },
    {
      "cell_type": "code",
      "source": [
        "import numpy as np # linear algebra\n",
        "import pandas as pd # data processing, CSV file I/O (e.g. pd.read_csv)\n",
        "import matplotlib.pyplot as plt\n",
        "%matplotlib inline\n",
        "import seaborn as sns\n",
        "import plotly as py\n",
        "# py.offline.init_notebook_mode(connected = True)\n",
        "import plotly.express as px\n",
        "import plotly.graph_objects as go\n",
        "import plotly.figure_factory as ff\n",
        "from plotly.subplots import make_subplots\n",
        "import folium\n",
        "import math\n",
        "import random\n",
        "from datetime import timedelta\n",
        "import warnings\n",
        "warnings.filterwarnings('ignore')\n",
        "# Color pallatte\n",
        "cnf = '#393e46'\n",
        "dth = '#ff2e63'\n",
        "rec = '#21bf73'\n",
        "act = '#fe9801'\n",
        "\n",
        "# Input data files are available in the read-only \"../input/\" directory\n",
        "# For example, running this (by clicking run or pressing Shift+Enter) will list all files under the input directory\n",
        "\n",
        "import os\n",
        "for dirname, _, filenames in os.walk('/kaggle/input'):\n",
        "    for filename in filenames:\n",
        "        print(os.path.join(dirname, filename))"
      ],
      "metadata": {
        "execution": {
          "iopub.status.busy": "2022-09-06T12:42:38.685973Z",
          "iopub.execute_input": "2022-09-06T12:42:38.686461Z",
          "iopub.status.idle": "2022-09-06T12:42:40.940119Z",
          "shell.execute_reply.started": "2022-09-06T12:42:38.686419Z",
          "shell.execute_reply": "2022-09-06T12:42:40.938829Z"
        },
        "trusted": true,
        "id": "QIA5yxpxNmnq"
      },
      "execution_count": null,
      "outputs": []
    },
    {
      "cell_type": "code",
      "source": [],
      "metadata": {
        "trusted": true,
        "id": "M4f-ELnpNmnq"
      },
      "execution_count": null,
      "outputs": []
    },
    {
      "cell_type": "code",
      "source": [],
      "metadata": {
        "trusted": true,
        "id": "3-FpGrkmNmnq"
      },
      "execution_count": null,
      "outputs": []
    },
    {
      "cell_type": "code",
      "source": [],
      "metadata": {
        "id": "9Wr6WOnhNmnr"
      },
      "execution_count": null,
      "outputs": []
    }
  ]
}